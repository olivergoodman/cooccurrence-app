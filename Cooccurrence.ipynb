{
 "cells": [
  {
   "cell_type": "code",
   "execution_count": 70,
   "metadata": {
    "collapsed": false
   },
   "outputs": [],
   "source": [
    "import numpy as np\n",
    "import string\n",
    "from nltk import word_tokenize\n",
    "from nltk.probability import FreqDist\n",
    "from nltk.tokenize import sent_tokenize\n",
    "from nltk.corpus import stopwords\n"
   ]
  },
  {
   "cell_type": "code",
   "execution_count": 71,
   "metadata": {
    "collapsed": false
   },
   "outputs": [],
   "source": [
    "# from newspaper import Article\n",
    "# # get article\n",
    "# url1 = \"http://www.nytimes.com/2016/05/05/technology/moores-law-running-out-of-room-tech-looks-for-a-successor.html?smid=pl-share\"\n",
    "# article1 = Article(url1)\n",
    "# article1.download()\n",
    "# article1.parse()\n",
    "# raw1 = article1.text.lower()\n",
    "# raw1 = raw1.encode(\"utf-8\")\n",
    "# raw1.replace(\".\", \"\")\n",
    "# raw1.replace(\",\", \"\")"
   ]
  },
  {
   "cell_type": "code",
   "execution_count": 81,
   "metadata": {
    "collapsed": false
   },
   "outputs": [],
   "source": [
    "class CooccurrenceMatrix:\n",
    "    \"\"\"\n",
    "    corpus        --  text file, declared when object created\n",
    "    data          --  string\n",
    "    sents         --  list of strings, all the sentences in text file (with punctiation)\n",
    "    tokens        --  list of strings, all tokens in text file (with repetitions)\n",
    "    unique_tokens --  list of strings, all unique tokens\n",
    "    num_tokens    --  int, number of unique tokens in text\n",
    "    fdist         --  fdist object\n",
    "    cooc_matrix   --  2D list, initialized to all 0's in prepareCorpus\n",
    "    word_indices  --  dictionary (key=word, value=index in cooc_matrix)\n",
    "    \"\"\"\n",
    "    def __init__(self, c):\n",
    "        self.corpus = c \n",
    "        self.data = \"\"\n",
    "        self.sents = []\n",
    "        self.tokens = []\n",
    "        self.unique_tokens = []\n",
    "        self.num_tokens = 0\n",
    "        self.fdist = None\n",
    "        self.cooc_matrix = None\n",
    "        self.word_indices = {}\n",
    "        \n",
    "    def prepareCorpus(self):\n",
    "        \"\"\"Given a text file, removes punctuation, returns the list of all tokens, list of unique tokens, \n",
    "        list of sentences, the number of unique tokens, and the frequency distribution. \n",
    "        Also initializies cooc_matrix to all 0's with size = num_tokens\"\"\"\n",
    "        with open(self.corpus, 'r') as myfile:\n",
    "            self.data = myfile.read().replace('\\n', '')\n",
    "        self.data = self.data.lower()\n",
    "        data_no_stop = [i for i in self.data.split() if i not in stopwords.words('english')]\n",
    "        self.data = \" \".join(data_no_stop)\n",
    "        self.sents = sent_tokenize(self.data)\n",
    "        self.data = self.removePunctuation(self.data)\n",
    "        self.tokens = word_tokenize(self.data)\n",
    "        self.unique_tokens = set(self.tokens)\n",
    "        self.num_tokens = len(self.unique_tokens)\n",
    "        self.fdist = FreqDist(self.tokens)\n",
    "        self.cooc_matrix = np.zeros((self.num_tokens, self.num_tokens))\n",
    "        return\n",
    "\n",
    "    def fillMatrix(self):\n",
    "        \"\"\"Fills the cooccurrence matrix\"\"\"\n",
    "        self.findIndices()\n",
    "        for s in self.sents:\n",
    "            s = self.removePunctuation(s)\n",
    "            words = word_tokenize(s)\n",
    "            self.examineSentence(words)\n",
    "        print \"Cooccurrence Matrix:\\n\", self.cooc_matrix \n",
    "        return \n",
    "    \n",
    "    def examineSentence(self, sentence):\n",
    "        \"\"\"Given a sentence (list of words), updates cooccurrence matrix with number of cooccurrences within sentence\n",
    "        Ignores cooccurrences of word with itself\"\"\"\n",
    "        for word1 in sentence:\n",
    "            for word2 in sentence:\n",
    "                index1 = self.word_indices[word1]\n",
    "                index2 = self.word_indices[word2]\n",
    "                if word1 != word2:\n",
    "                    self.cooc_matrix[index1][index2] += 1\n",
    "        return\n",
    "    \n",
    "    def findIndices(self):\n",
    "        \"\"\"Sets word_indices, where each key is a unique token and each value is a index in the cooc_matrix\"\"\"\n",
    "        counter = 0\n",
    "        for t in self.unique_tokens:\n",
    "            self.word_indices[t] = counter\n",
    "            counter += 1\n",
    "        return\n",
    "\n",
    "    def removePunctuation(self, text):\n",
    "        \"\"\"Given a piece of text, removes all punctuation (replacing periods, semicolons, colons with spaces)\"\"\"\n",
    "        text = text.replace(\".\", \" \")\n",
    "        text = text.replace(\";\", \" \")\n",
    "        text = text.replace(\":\", \".\")\n",
    "        text = text.replace(\",\", \"\")\n",
    "        exclude = set(string.punctuation)\n",
    "        text = ''.join(ch for ch in text if ch not in exclude)\n",
    "        return text\n",
    "    \n",
    "    def findCooccurrences(self, target_word):\n",
    "        \"\"\"returns the cooccurrences of a given word\"\"\"\n",
    "        if target_word not in self.word_indices[target_word]:\n",
    "            return \"Target word not in corpus. Try another word.\"\n",
    "        index_target_word = self.word_indices[target_word]\n",
    "        max_index = 0\n",
    "        for col in range(self.num_tokens):\n",
    "            if self.cooc_matrix[index_target_word][col] > self.cooc_matrix[index_target_word][max_index]:\n",
    "                max_index = col\n",
    "        top_cooccurrence = (list(self.word_indices.keys())[list(self.word_indices.value()).index(max_index)])\n",
    "        return top_cooccurrence"
   ]
  },
  {
   "cell_type": "code",
   "execution_count": 84,
   "metadata": {
    "collapsed": false
   },
   "outputs": [
    {
     "name": "stdout",
     "output_type": "stream",
     "text": [
      "Cooccurrence Matrix:\n",
      "[[ 0.  0.  0. ...,  0.  0.  0.]\n",
      " [ 0.  0.  0. ...,  0.  0.  0.]\n",
      " [ 0.  0.  0. ...,  0.  0.  0.]\n",
      " ..., \n",
      " [ 0.  0.  0. ...,  0.  0.  0.]\n",
      " [ 0.  0.  0. ...,  0.  0.  0.]\n",
      " [ 0.  0.  0. ...,  0.  0.  0.]]\n",
      "(1217, 1217)\n",
      "['fellow', 'citizensi', 'stand', 'today', 'humbled', 'task', 'us', 'grateful', 'trust', 'bestowed', 'mindful', 'sacrifices', 'borne', 'ancestors', 'thank', 'president', 'bush', 'service', 'nation', 'well', 'generosity', 'cooperation', 'shown', 'throughout', 'transition', 'fortyfour', 'americans', 'taken', 'presidential', 'oath', 'words', 'spoken', 'rising', 'tides', 'prosperity', 'still', 'waters', 'peace', 'yet', 'every', 'often', 'oath', 'taken', 'amidst', 'gathering', 'clouds', 'raging', 'storms', 'moments', 'america', 'carried', 'simply', 'skill', 'vision', 'high', 'office', 'people', 'remained', 'faithful', 'ideals', 'forbearers', 'true', 'founding', 'documents', 'so', 'been', 'must', 'generation', 'americans', 'that', 'midst', 'crisis', 'well', 'understood', 'nation', 'war', 'farreaching', 'network', 'violence', 'hatred', 'economy', 'badly', 'weakened', 'consequence', 'greed', 'irresponsibility', 'part', 'some', 'also', 'collective', 'failure', 'make', 'hard', 'choices', 'prepare', 'nation', 'new', 'age', 'homes', 'lost', 'jobs', 'shed', 'businesses', 'shuttered', 'health', 'care', 'costly', 'schools', 'fail', 'many', 'day', 'brings', 'evidence', 'ways', 'use', 'energy', 'strengthen', 'adversaries', 'threaten', 'planet', 'these', 'indicators', 'crisis', 'subject', 'data', 'statistics', 'less', 'measurable', 'less', 'profound', 'sapping', 'confidence', 'across', 'land', 'nagging', 'fear', 'americas', 'decline', 'inevitable', 'next', 'generation', 'must', 'lower', 'sights', 'today', 'say', 'challenges', 'face', 'real', 'serious', 'many', 'met', 'easily', 'short', 'span', 'time', 'know', 'this', 'america', 'met', 'on', 'day', 'gather', 'chosen', 'hope', 'fear', 'unity', 'purpose', 'conflict', 'discord', 'on', 'day', 'come', 'proclaim', 'end', 'petty', 'grievances', 'false', 'promises', 'recriminations', 'worn', 'dogmas', 'far', 'long', 'strangled', 'politics', 'we', 'remain', 'young', 'nation', 'words', 'scripture', 'time', 'come', 'set', 'aside', 'childish', 'things', 'time', 'come', 'reaffirm', 'enduring', 'spirit', 'choose', 'better', 'history', 'carry', 'forward', 'precious', 'gift', 'noble', 'idea', 'passed', 'generation', 'generation', 'godgiven', 'promise', 'equal', 'free', 'deserve', 'chance', 'pursue', 'full', 'measure', 'happiness', 'in', 'reaffirming', 'greatness', 'nation', 'understand', 'greatness', 'never', 'given', 'must', 'earned', 'journey', 'never', 'one', 'shortcuts', 'settling', 'less', 'path', 'fainthearted', 'prefer', 'leisure', 'work', 'seek', 'pleasures', 'riches', 'fame', 'rather', 'risktakers', 'doers', 'makers', 'things', 'celebrated', 'often', 'men', 'women', 'obscure', 'labor', 'carried', 'us', 'long', 'rugged', 'path', 'towards', 'prosperity', 'freedom', 'for', 'us', 'packed', 'worldly', 'possessions', 'traveled', 'across', 'oceans', 'search', 'new', 'life', 'for', 'us', 'toiled', 'sweatshops', 'settled', 'west', 'endured', 'lash', 'whip', 'plowed', 'hard', 'earth', 'for', 'us', 'fought', 'died', 'places', 'like', 'concord', 'gettysburg', 'normandy', 'khe', 'sahn', 'time', 'men', 'women', 'struggled', 'sacrificed', 'worked', 'till', 'hands', 'raw', 'might', 'live', 'better', 'life', 'saw', 'america', 'bigger', 'sum', 'individual', 'ambitions', 'greater', 'differences', 'birth', 'wealth', 'faction', 'this', 'journey', 'continue', 'today', 'remain', 'prosperous', 'powerful', 'nation', 'earth', 'workers', 'less', 'productive', 'crisis', 'began', 'minds', 'less', 'inventive', 'goods', 'services', 'less', 'needed', 'last', 'week', 'last', 'month', 'last', 'year', 'capacity', 'remains', 'undiminished', 'time', 'standing', 'pat', 'protecting', 'narrow', 'interests', 'putting', 'unpleasant', 'decisions', 'time', 'surely', 'passed', 'starting', 'today', 'must', 'pick', 'up', 'dust', 'off', 'begin', 'work', 'remaking', 'america', 'for', 'everywhere', 'look', 'work', 'done', 'state', 'economy', 'calls', 'action', 'bold', 'swift', 'act', 'create', 'new', 'jobs', 'lay', 'new', 'foundation', 'growth', 'build', 'roads', 'bridges', 'electric', 'grids', 'digital', 'lines', 'feed', 'commerce', 'bind', 'us', 'together', 'restore', 'science', 'rightful', 'place', 'wield', 'technologys', 'wonders', 'raise', 'health', 'cares', 'quality', 'lower', 'cost', 'harness', 'sun', 'winds', 'soil', 'fuel', 'cars', 'run', 'factories', 'transform', 'schools', 'colleges', 'universities', 'meet', 'demands', 'new', 'age', 'do', 'do', 'now', 'question', 'scale', 'ambitions', 'suggest', 'system', 'can', 'not', 'tolerate', 'many', 'big', 'plans', 'memories', 'short', 'forgotten', 'country', 'already', 'done', 'free', 'men', 'women', 'achieve', 'imagination', 'joined', 'common', 'purpose', 'necessity', 'courage', 'what', 'cynics', 'fail', 'understand', 'ground', 'shifted', 'beneath', 'stale', 'political', 'arguments', 'consumed', 'us', 'long', 'longer', 'apply', 'question', 'ask', 'today', 'whether', 'government', 'big', 'small', 'whether', 'works', 'whether', 'helps', 'families', 'find', 'jobs', 'decent', 'wage', 'care', 'afford', 'retirement', 'dignified', 'answer', 'yes', 'intend', 'move', 'forward', 'answer', 'no', 'programs', 'end', 'us', 'manage', 'publics', 'dollars', 'held', 'account', 'spend', 'wisely', 'reform', 'bad', 'habits', 'business', 'light', 'day', 'restore', 'vital', 'trust', 'people', 'government', 'nor', 'question', 'us', 'whether', 'market', 'force', 'good', 'ill', 'power', 'generate', 'wealth', 'expand', 'freedom', 'unmatched', 'crisis', 'reminded', 'us', 'without', 'watchful', 'eye', 'market', 'spin', 'control', 'nation', 'can', 'not', 'prosper', 'long', 'favors', 'prosperous', 'success', 'economy', 'always', 'depended', 'size', 'gross', 'domestic', 'product', 'reach', 'prosperity', 'ability', 'extend', 'opportunity', 'every', 'willing', 'heart', 'charity', 'surest', 'route', 'common', 'good', 'as', 'common', 'defense', 'reject', 'false', 'choice', 'safety', 'ideals', 'founding', 'fathers', 'faced', 'perils', 'scarcely', 'imagine', 'drafted', 'charter', 'assure', 'rule', 'law', 'rights', 'man', 'charter', 'expanded', 'blood', 'generations', 'ideals', 'still', 'light', 'world', 'give', 'expediences', 'sake', 'peoples', 'governments', 'watching', 'today', 'grandest', 'capitals', 'small', 'village', 'father', 'born', 'know', 'america', 'friend', 'nation', 'every', 'man', 'woman', 'child', 'seeks', 'future', 'peace', 'dignity', 'ready', 'lead', 'more', 'recall', 'earlier', 'generations', 'faced', 'fascism', 'communism', 'missiles', 'tanks', 'sturdy', 'alliances', 'enduring', 'convictions', 'understood', 'power', 'alone', 'can', 'not', 'protect', 'us', 'entitle', 'us', 'please', 'instead', 'knew', 'power', 'grows', 'prudent', 'use', 'security', 'emanates', 'justness', 'cause', 'force', 'example', 'tempering', 'qualities', 'humility', 'restraint', 'we', 'keepers', 'legacy', 'guided', 'principles', 'more', 'meet', 'new', 'threats', 'demand', 'even', 'greater', 'effort', 'even', 'greater', 'cooperation', 'understanding', 'nations', 'begin', 'responsibly', 'leave', 'iraq', 'people', 'forge', 'hardearned', 'peace', 'afghanistan', 'old', 'friends', 'former', 'foes', 'we\\xe2\\x80\\x99ll', 'work', 'tirelessly', 'lessen', 'nuclear', 'threat', 'roll', 'back', 'specter', 'warming', 'planet', 'apologize', 'way', 'life', 'waver', 'defense', 'seek', 'advance', 'aims', 'inducing', 'terror', 'slaughtering', 'innocents', 'say', 'spirit', 'stronger', 'can', 'not', 'broken', 'can', 'not', 'outlast', 'us', 'defeat', 'you', 'for', 'know', 'patchwork', 'heritage', 'strength', 'weakness', 'nation', 'christians', 'muslims', 'jews', 'hindus', 'nonbelievers', 'shaped', 'every', 'language', 'culture', 'drawn', 'every', 'end', 'earth', 'tasted', 'bitter', 'swill', 'civil', 'war', 'segregation', 'emerged', 'dark', 'chapter', 'stronger', 'united', 'can', 'not', 'help', 'believe', 'old', 'hatreds', 'shall', 'someday', 'pass', 'lines', 'tribe', 'shall', 'soon', 'dissolve', 'world', 'grows', 'smaller', 'common', 'humanity', 'shall', 'reveal', 'itself', 'america', 'must', 'play', 'role', 'ushering', 'new', 'era', 'peace', 'to', 'muslim', 'world', 'seek', 'new', 'way', 'forward', 'based', 'mutual', 'interest', 'mutual', 'respect', 'leaders', 'around', 'globe', 'seek', 'sow', 'conflict', 'blame', 'societys', 'ills', 'west', 'know', 'people', 'judge', 'build', 'destroy', 'cling', 'power', 'corruption', 'deceit', 'silencing', 'dissent', 'know', 'wrong', 'side', 'history', 'extend', 'hand', 'willing', 'unclench', 'fist', 'to', 'people', 'poor', 'nations', 'pledge', 'work', 'alongside', 'make', 'farms', 'flourish', 'let', 'clean', 'waters', 'flow', 'nourish', 'starved', 'bodies', 'feed', 'hungry', 'minds', 'nations', 'like', 'enjoy', 'relative', 'plenty', 'say', 'longer', 'afford', 'indifference', 'suffering', 'outside', 'borders', 'consume', 'worlds', 'resources', 'without', 'regard', 'effect', 'world', 'changed', 'must', 'change', 'it', 'as', 'consider', 'road', 'unfolds', 'us', 'remember', 'humble', 'gratitude', 'brave', 'americans', 'who', 'hour', 'patrol', 'faroff', 'deserts', 'distant', 'mountains', 'something', 'tell', 'us', 'fallen', 'heroes', 'lie', 'arlington', 'whisper', 'ages', 'honor', 'guardians', 'liberty', 'embody', 'spirit', 'service', 'willingness', 'find', 'meaning', 'something', 'greater', 'themselves', 'yet', 'moment', 'moment', 'define', 'generation', 'precisely', 'spirit', 'must', 'inhabit', 'us', 'all', 'for', 'much', 'government', 'must', 'do', 'ultimately', 'faith', 'determination', 'american', 'people', 'upon', 'nation', 'relies', 'kindness', 'take', 'stranger', 'levees', 'break', 'selflessness', 'workers', 'would', 'rather', 'cut', 'hours', 'see', 'friend', 'lose', 'job', 'sees', 'us', 'darkest', 'hours', 'firefighters', 'courage', 'storm', 'stairway', 'filled', 'smoke', 'also', 'parents', 'willingness', 'nurture', 'child', 'finally', 'decides', 'fate', 'our', 'challenges', 'may', 'new', 'instruments', 'meet', 'may', 'new', 'values', 'upon', 'success', 'depends', 'honesty', 'hard', 'work', 'courage', 'fair', 'play', 'tolerance', 'curiosity', 'loyalty', 'patriotism', 'things', 'old', 'things', 'true', 'quiet', 'force', 'progress', 'throughout', 'history', 'demanded', 'return', 'truths', 'required', 'us', 'new', 'era', 'responsibility', 'recognition', 'part', 'every', 'american', 'duties', 'ourselves', 'nation', 'world', 'duties', 'grudgingly', 'accept', 'rather', 'seize', 'gladly', 'firm', 'knowledge', 'nothing', 'satisfying', 'spirit', 'defining', 'character', 'giving', 'difficult', 'task', 'this', 'price', 'promise', 'citizenship', 'this', 'source', 'confidence', 'knowledge', 'god', 'calls', 'us', 'shape', 'uncertain', 'destiny', 'this', 'meaning', 'liberty', 'creed', 'men', 'women', 'children', 'every', 'race', 'every', 'faith', 'join', 'celebration', 'across', 'magnificent', 'mall', 'man', 'whose', 'father', 'less', 'sixty', 'years', 'ago', 'might', 'served', 'local', 'restaurant', 'stand', 'take', 'sacred', 'oath', 'so', 'let', 'us', 'mark', 'day', 'remembrance', 'far', 'traveled', 'year', 'americas', 'birth', 'coldest', 'months', 'small', 'band', 'patriots', 'huddled', 'dying', 'campfires', 'shores', 'icy', 'river', 'capital', 'abandoned', 'enemy', 'advancing', 'snow', 'stained', 'blood', 'moment', 'outcome', 'revolution', 'doubt', 'father', 'nation', 'ordered', 'words', 'read', 'peoplelet', 'told', 'future', 'world', 'that', 'depth', 'winter', 'nothing', 'hope', 'virtue', 'could', 'survive', 'that', 'city', 'country', 'alarmed', 'one', 'common', 'danger', 'came', 'forth', 'meet', 'it', 'america', 'face', 'common', 'dangers', 'winter', 'hardship', 'let', 'us', 'remember', 'timeless', 'words', 'hope', 'virtue', 'let', 'us', 'brave', 'icy', 'currents', 'endure', 'storms', 'may', 'come', 'let', 'said', 'childrens', 'children', 'tested', 'refused', 'let', 'journey', 'end', 'turn', 'back', 'falter', 'eyes', 'fixed', 'horizon', 'gods', 'grace', 'upon', 'us', 'carried', 'forth', 'great', 'gift', 'freedom', 'delivered', 'safely', 'future', 'generations', 'thank', 'you', 'god', 'bless', 'god', 'bless', 'united', 'states', 'america', 'if', 'anyone', 'still', 'doubts', 'america', 'place', 'things', 'possible', 'still', 'wonders', 'dream', 'founders', 'alive', 'time', 'still', 'questions', 'power', 'democracy', 'tonight', 'answer', 'it\\xe2\\x80\\x99s', 'answer', 'told', 'lines', 'stretched', 'around', 'schools', 'churches', 'numbers', 'nation', 'never', 'seen', 'people', 'waited', 'three', 'hours', 'four', 'hours', 'many', 'first', 'time', 'lives', 'believed', 'time', 'must', 'different', 'voice', 'could', 'difference', 'it\\xe2\\x80\\x99s', 'answer', 'spoken', 'young', 'old', 'rich', 'poor', 'democrat', 'republican', 'black', 'white', 'latino', 'asian', 'native', 'american', 'gay', 'straight', 'disabled', 'disabled', '\\xe2\\x80\\x93', 'americans', 'sent', 'message', 'world', 'never', 'collection', 'red', 'states', 'blue', 'states', 'are', 'always', 'be', 'united', 'states', 'america', 'it\\xe2\\x80\\x99s', 'answer', 'led', 'told', 'long', 'many', 'cynical', 'fearful', 'doubtful', 'achieve', 'put', 'hands', 'arc', 'history', 'bend', 'toward', 'hope', 'better', 'day', 'it\\xe2\\x80\\x99s', 'long', 'time', 'coming', 'tonight', 'day', 'election', 'defining', 'moment', 'change', 'come', 'america', 'i', 'received', 'gracious', 'call', 'senator', 'mccain', 'fought', 'long', 'hard', 'campaign', 'he\\xe2\\x80\\x99s', 'fought', 'even', 'longer', 'harder', 'country', 'loves', 'endured', 'sacrifices', 'america', 'us', 'can', 'not', 'begin', 'imagine', 'better', 'service', 'rendered', 'brave', 'selfless', 'leader', 'congratulate', 'governor', 'palin', 'achieved', 'look', 'forward', 'working', 'renew', 'nation\\xe2\\x80\\x99s', 'promise', 'months', 'ahead', 'i', 'want', 'thank', 'partner', 'journey', 'man', 'campaigned', 'heart', 'spoke', 'men', 'women', 'grew', 'streets', 'scranton', 'rode', 'train', 'home', 'delaware', 'vice', 'presidentelect', 'united', 'states', 'joe', 'biden', 'i', 'would', 'standing', 'tonight', 'without', 'unyielding', 'support', 'best', 'friend', 'last', 'sixteen', 'years', 'rock', 'family', 'love', 'life', 'nation\\xe2\\x80\\x99s', 'next', 'first', 'lady', 'michelle', 'obama', 'sasha', 'malia', 'love', 'much', 'earned', 'new', 'puppy', 'that\\xe2\\x80\\x99s', 'coming', 'us', 'white', 'house', 'she\\xe2\\x80\\x99s', 'longer', 'us', 'know', 'grandmother', 'watching', 'along', 'family', 'made', 'am', 'miss', 'tonight', 'know', 'debt', 'beyond', 'measure', 'to', 'campaign', 'manager', 'david', 'plouffe', 'chief', 'strategist', 'david', 'axelrod', 'best', 'campaign', 'team', 'ever', 'assembled', 'history', 'politics', '\\xe2\\x80\\x93', 'made', 'happen', 'forever', 'grateful', 'you\\xe2\\x80\\x99ve', 'sacrificed', 'get', 'done', 'but', 'all', 'never', 'forget', 'victory', 'truly', 'belongs', '\\xe2\\x80\\x93', 'belongs', 'you', 'i', 'never', 'likeliest', 'candidate', 'office', 'didn\\xe2\\x80\\x99t', 'start', 'much', 'money', 'many', 'endorsements', 'campaign', 'hatched', 'halls', 'washington', '\\xe2\\x80\\x93', 'began', 'backyards', 'des', 'moines', 'living', 'rooms', 'concord', 'front', 'porches', 'charleston', 'it', 'built', 'working', 'men', 'women', 'dug', 'little', 'savings', 'give', 'five', 'dollars', 'ten', 'dollars', 'twenty', 'dollars', 'cause', 'grew', 'strength', 'young', 'people', 'rejected', 'myth', 'generation\\xe2\\x80\\x99s', 'apathy', 'left', 'homes', 'families', 'jobs', 'offered', 'little', 'pay', 'less', 'sleep', 'notsoyoung', 'people', 'braved', 'bitter', 'cold', 'scorching', 'heat', 'knock', 'doors', 'perfect', 'strangers', 'millions', 'americans', 'volunteered', 'organized', 'proved', 'two', 'centuries', 'later', 'government', 'people', 'people', 'people', 'perished', 'earth', 'victory', 'know', 'didn\\xe2\\x80\\x99t', 'win', 'election', 'know', 'didn\\xe2\\x80\\x99t', 'me', 'understand', 'enormity', 'task', 'lies', 'ahead', 'even', 'celebrate', 'tonight', 'know', 'challenges', 'tomorrow', 'bring', 'greatest', 'lifetime', '\\xe2\\x80\\x93', 'two', 'wars', 'planet', 'peril', 'worst', 'financial', 'crisis', 'century', 'even', 'stand', 'tonight', 'know', 'brave', 'americans', 'waking', 'deserts', 'iraq', 'mountains', 'afghanistan', 'risk', 'lives', 'us', 'mothers', 'fathers', 'lie', 'awake', 'children', 'fall', 'asleep', 'wonder', 'they\\xe2\\x80\\x99ll', 'make', 'mortgage', 'pay', 'doctor\\xe2\\x80\\x99s', 'bills', 'save', 'enough', 'college', 'new', 'energy', 'harness', 'new', 'jobs', 'created', 'new', 'schools', 'build', 'threats', 'meet', 'alliances', 'repair', 'the', 'road', 'ahead', 'long', 'climb', 'steep', 'may', 'get', 'one', 'year', 'even', 'one', 'term', 'america', '\\xe2\\x80\\x93', 'never', 'hopeful', 'tonight', 'get', 'there', 'promise', '\\xe2\\x80\\x93', 'people', 'get', 'there', 'there', 'setbacks', 'false', 'starts', 'many', 'won\\xe2\\x80\\x99t', 'agree', 'every', 'decision', 'policy', 'make', 'president', 'know', 'government', 'can\\xe2\\x80\\x99t', 'solve', 'every', 'problem', 'always', 'honest', 'challenges', 'face', 'listen', 'you', 'especially', 'disagree', 'all', 'ask', 'join', 'work', 'remaking', 'nation', 'way', 'it\\xe2\\x80\\x99s', 'done', 'america', 'twohundred', 'twentyone', 'years', '\\xe2\\x80\\x93', 'block', 'block', 'brick', 'brick', 'calloused', 'hand', 'calloused', 'hand', 'what', 'began', 'twentyone', 'months', 'ago', 'depths', 'winter', 'must', 'end', 'autumn', 'night', 'victory', 'alone', 'change', 'seek', '\\xe2\\x80\\x93', 'chance', 'us', 'make', 'change', 'can', 'not', 'happen', 'go', 'back', 'way', 'things', 'were', 'can', 'not', 'happen', 'without', 'you', 'so', 'let', 'us', 'summon', 'new', 'spirit', 'patriotism', 'service', 'responsibility', 'us', 'resolves', 'pitch', 'work', 'harder', 'look', 'ourselves', 'other', 'let', 'us', 'remember', 'financial', 'crisis', 'taught', 'us', 'anything', 'it\\xe2\\x80\\x99s', 'can', 'not', 'thriving', 'wall', 'street', 'main', 'street', 'suffers', '\\xe2\\x80\\x93', 'country', 'rise', 'fall', 'one', 'nation', 'one', 'people', 'let', 'us', 'resist', 'temptation', 'fall', 'back', 'partisanship', 'pettiness', 'immaturity', 'poisoned', 'politics', 'long', 'let', 'us', 'remember', 'man', 'state', 'first', 'carried', 'banner', 'republican', 'party', 'white', 'house', '\\xe2\\x80\\x93', 'party', 'founded', 'values', 'selfreliance', 'individual', 'liberty', 'national', 'unity', 'values', 'share', 'democratic', 'party', 'great', 'victory', 'tonight', 'measure', 'humility', 'determination', 'heal', 'divides', 'held', 'back', 'progress', 'lincoln', 'said', 'nation', 'far', 'divided', 'ours', '\\xe2\\x80\\x9cwe', 'enemies', 'friends\\xe2\\x80\\xa6though', 'passion', 'may', 'strained', 'must', 'break', 'bonds', 'affection', '\\xe2\\x80\\x9d', 'americans', 'whose', 'support', 'yet', 'earn', '\\xe2\\x80\\x93', 'may', 'vote', 'hear', 'voices', 'need', 'help', 'president', 'too', 'and', 'watching', 'tonight', 'beyond', 'shores', 'parliaments', 'palaces', 'huddled', 'around', 'radios', 'forgotten', 'corners', 'world', '\\xe2\\x80\\x93', 'stories', 'singular', 'destiny', 'shared', 'new', 'dawn', 'american', 'leadership', 'hand', 'would', 'tear', 'world', '\\xe2\\x80\\x93', 'defeat', 'you', 'seek', 'peace', 'security', '\\xe2\\x80\\x93', 'support', 'you', 'wondered', 'america\\xe2\\x80\\x99s', 'beacon', 'still', 'burns', 'bright', '\\xe2\\x80\\x93', 'tonight', 'proved', 'true', 'strength', 'nation', 'comes', 'might', 'arms', 'scale', 'wealth', 'enduring', 'power', 'ideals', 'democracy', 'liberty', 'opportunity', 'unyielding', 'hope', 'for', 'true', 'genius', 'america', '\\xe2\\x80\\x93', 'america', 'change', 'union', 'perfected', 'already', 'achieved', 'gives', 'us', 'hope', 'must', 'achieve', 'tomorrow', 'this', 'election', 'many', 'firsts', 'many', 'stories', 'told', 'generations', 'one', 'that\\xe2\\x80\\x99s', 'mind', 'tonight', 'woman', 'cast', 'ballot', 'atlanta', 'she\\xe2\\x80\\x99s', 'lot', 'like', 'millions', 'others', 'stood', 'line', 'make', 'voice', 'heard', 'election', 'except', 'one', 'thing', '\\xe2\\x80\\x93', 'ann', 'nixon', 'cooper', '106', 'years', 'old', 'she', 'born', 'generation', 'past', 'slavery', 'time', 'cars', 'road', 'planes', 'sky', 'someone', 'like', 'couldn\\xe2\\x80\\x99t', 'vote', 'two', 'reasons', '\\xe2\\x80\\x93', 'woman', 'color', 'skin', 'and', 'tonight', 'think', 'she\\xe2\\x80\\x99s', 'seen', 'throughout', 'century', 'america', '\\xe2\\x80\\x93', 'heartache', 'hope', 'struggle', 'progress', 'times', 'told', 'can\\xe2\\x80\\x99t', 'people', 'pressed', 'american', 'creed', 'yes', 'can', 'at', 'time', 'women\\xe2\\x80\\x99s', 'voices', 'silenced', 'hopes', 'dismissed', 'lived', 'see', 'stand', 'speak', 'reach', 'ballot', 'yes', 'can', 'when', 'despair', 'dust', 'bowl', 'depression', 'across', 'land', 'saw', 'nation', 'conquer', 'fear', 'new', 'deal', 'new', 'jobs', 'new', 'sense', 'common', 'purpose', 'yes', 'can', 'when', 'bombs', 'fell', 'harbor', 'tyranny', 'threatened', 'world', 'witness', 'generation', 'rise', 'greatness', 'democracy', 'saved', 'yes', 'can', 'she', 'buses', 'montgomery', 'hoses', 'birmingham', 'bridge', 'selma', 'preacher', 'atlanta', 'told', 'people', '\\xe2\\x80\\x9cwe', 'shall', 'overcome', '\\xe2\\x80\\x9d', 'yes', 'can', 'a', 'man', 'touched', 'moon', 'wall', 'came', 'berlin', 'world', 'connected', 'science', 'imagination', 'year', 'election', 'touched', 'finger', 'screen', 'cast', 'vote', '106', 'years', 'america', 'best', 'times', 'darkest', 'hours', 'knows', 'america', 'change', 'yes', 'can', 'america', 'come', 'far', 'seen', 'much', 'much', 'do', 'tonight', 'let', 'us', 'ask', '\\xe2\\x80\\x93', 'children', 'live', 'see', 'next', 'century', 'daughters', 'lucky', 'live', 'long', 'ann', 'nixon', 'cooper', 'change', 'see', 'progress', 'madethis', 'chance', 'answer', 'call', 'moment', 'time', '\\xe2\\x80\\x93', 'put', 'people', 'back', 'work', 'open', 'doors', 'opportunity', 'kids', 'restore', 'prosperity', 'promote', 'cause', 'peace', 'reclaim', 'american', 'dream', 'reaffirm', 'fundamental', 'truth', '\\xe2\\x80\\x93', 'many', 'one', 'breathe', 'hope', 'met', 'cynicism', 'doubt', 'tell', 'us', 'can\\xe2\\x80\\x99t', 'respond', 'timeless', 'creed', 'sums', 'spirit', 'peopleyes', 'can', 'thank', 'you', 'god', 'bless', 'you', 'may', 'god', 'bless', 'united', 'states', 'america']\n"
     ]
    }
   ],
   "source": [
    "# Testing on obama.txt\n",
    "obama = CooccurrenceMatrix('obama.txt')\n",
    "obama.prepareCorpus()\n",
    "obama.fillMatrix()\n",
    "print obama.cooc_matrix.shape #dimensions of matrix\n",
    "print obama.tokens\n"
   ]
  },
  {
   "cell_type": "code",
   "execution_count": 80,
   "metadata": {
    "collapsed": false
   },
   "outputs": [],
   "source": [
    "# TO DO:\n",
    "# input word in system, look up word in matrix and return (n)-most cooccurring words\n",
    "# add a bigger corpus, or put together lots of obama's speeches together \n",
    "# what words to obama use similarly together (maybe use other political figures) \n",
    "# for this word obama uses like this, this other politician uses it like this"
   ]
  },
  {
   "cell_type": "code",
   "execution_count": 68,
   "metadata": {
    "collapsed": false
   },
   "outputs": [
    {
     "name": "stdout",
     "output_type": "stream",
     "text": [
      "advancing\n"
     ]
    }
   ],
   "source": [
    "#OBAMA TEST: for given word ('america' here), return top cooccurrence\n",
    "obama.word_indices['america'] #604\n",
    "\n",
    "max_index = 0\n",
    "# for row in range(obama.num_tokens):\n",
    "#     for col in range(obama.num_tokens):\n",
    "        \n",
    "for col in range(obama.num_tokens):\n",
    "    if obama.cooc_matrix[604][col] > obama.cooc_matrix[604][max_index]:\n",
    "        max_index = col\n",
    "# max_index is 244\n",
    "\n",
    "top_cooccurrence = (list(obama.word_indices.keys())[list(obama.word_indices.values()).index(max_index)])\n",
    "print top_cooccurrence"
   ]
  },
  {
   "cell_type": "code",
   "execution_count": 69,
   "metadata": {
    "collapsed": false
   },
   "outputs": [
    {
     "name": "stdout",
     "output_type": "stream",
     "text": [
      "Cooccurrence Matrix:\n",
      "[[ 0.  0.  0. ...,  0.  0.  0.]\n",
      " [ 0.  0.  0. ...,  0.  0.  0.]\n",
      " [ 0.  0.  0. ...,  0.  0.  0.]\n",
      " ..., \n",
      " [ 0.  0.  0. ...,  0.  0.  0.]\n",
      " [ 0.  0.  0. ...,  0.  0.  0.]\n",
      " [ 0.  0.  0. ...,  0.  0.  0.]]\n",
      "(1046, 1046)\n",
      "president\n"
     ]
    }
   ],
   "source": [
    "#TRUMP TEST\n",
    "trump = CooccurrenceMatrix('trump.txt')\n",
    "trump.prepareCorpus()\n",
    "trump.fillMatrix()\n",
    "print trump.cooc_matrix.shape #dimensions of matrix\n",
    "\n",
    "#for given word ('america' here), return top cooccurrence\n",
    "trump.word_indices['america'] #498\n",
    "\n",
    "max_index = 0\n",
    "for col in range(trump.num_tokens):\n",
    "    if trump.cooc_matrix[498][col] > trump.cooc_matrix[498][max_index]:\n",
    "        max_index = col\n",
    "# max_index is 241\n",
    "\n",
    "top_cooccurrence = (list(trump.word_indices.keys())[list(trump.word_indices.values()).index(max_index)]) \n",
    "print top_cooccurrence"
   ]
  },
  {
   "cell_type": "code",
   "execution_count": null,
   "metadata": {
    "collapsed": true
   },
   "outputs": [],
   "source": []
  }
 ],
 "metadata": {
  "kernelspec": {
   "display_name": "Python 2",
   "language": "python",
   "name": "python2"
  },
  "language_info": {
   "codemirror_mode": {
    "name": "ipython",
    "version": 2
   },
   "file_extension": ".py",
   "mimetype": "text/x-python",
   "name": "python",
   "nbconvert_exporter": "python",
   "pygments_lexer": "ipython2",
   "version": "2.7.10"
  }
 },
 "nbformat": 4,
 "nbformat_minor": 0
}
