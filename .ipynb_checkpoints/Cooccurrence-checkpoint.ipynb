{
 "cells": [
  {
   "cell_type": "code",
   "execution_count": 257,
   "metadata": {
    "collapsed": false
   },
   "outputs": [],
   "source": [
    "import numpy as np\n",
    "import string\n",
    "from nltk import word_tokenize\n",
    "from nltk.probability import FreqDist\n",
    "from nltk.tokenize import sent_tokenize"
   ]
  },
  {
   "cell_type": "code",
   "execution_count": 258,
   "metadata": {
    "collapsed": false
   },
   "outputs": [],
   "source": [
    "# from newspaper import Article\n",
    "# # get article\n",
    "# url1 = \"http://www.nytimes.com/2016/05/05/technology/moores-law-running-out-of-room-tech-looks-for-a-successor.html?smid=pl-share\"\n",
    "# article1 = Article(url1)\n",
    "# article1.download()\n",
    "# article1.parse()\n",
    "# raw1 = article1.text.lower()\n",
    "# raw1 = raw1.encode(\"utf-8\")\n",
    "# raw1.replace(\".\", \"\")\n",
    "# raw1.replace(\",\", \"\")"
   ]
  },
  {
   "cell_type": "code",
   "execution_count": 259,
   "metadata": {
    "collapsed": false
   },
   "outputs": [],
   "source": [
    "def examineSentence(sent):\n",
    "    \"\"\"Given a sentence (list of words), updates cooccurrence array with number of cooccurrences within sentence\"\"\"\n",
    "    for word1 in sent:\n",
    "        for word2 in sent:\n",
    "            index1 = word_indices[word1]\n",
    "            index2 = word_indices[word2]\n",
    "            #ignore cooccurrences with self\n",
    "            if word1 != word2:\n",
    "                cooc_array[index1][index2] += 1\n",
    "    return\n",
    "\n",
    "def prepareCorpus(corpus):\n",
    "    \"\"\"Given a text file, removes periods/commas, returns the list of all tokens, list of unique tokens, \n",
    "    list of sentences, the number of unique tokens, and the frequency distribution\"\"\"\n",
    "    with open(corpus, 'r') as myfile:\n",
    "        data = myfile.read().replace('\\n', '')\n",
    "    data = data.lower()\n",
    "    sents = sent_tokenize(data)\n",
    "    exclude = set(string.punctuation)\n",
    "    data = data.replace(\".\", \" \")\n",
    "    data = data.replace(\";\", \" \")\n",
    "    data = data.replace(\":\", \" \")\n",
    "    data = ''.join(ch for ch in data if ch not in exclude)\n",
    "    tokens = word_tokenize(data)\n",
    "    unique_tokens = set(tokens)\n",
    "    num_tokens = len(unique_tokens)\n",
    "    fdist = FreqDist(tokens)\n",
    "    return tokens, sents, unique_tokens, num_tokens, fdist"
   ]
  },
  {
   "cell_type": "code",
   "execution_count": 264,
   "metadata": {
    "collapsed": false
   },
   "outputs": [
    {
     "name": "stdout",
     "output_type": "stream",
     "text": [
      "['my fellow citizens i stand here today humbled by the task before us grateful for the trust you have bestowed mindful of the sacrifices borne by our ancestors  i thank president bush for his service to our nation as well as the generosity and cooperation he has shown throughout this transition fortyfour americans have now taken the presidential oath  the words have been spoken during rising tides of prosperity and the still waters of peace  yet every so often the oath is taken amidst gathering clouds and raging storms  at these moments america has carried on not simply because of the skill or vision of those in high office but because we the people have remained faithful to the ideals of our forbearers and true to our founding documents so it has been  so it must be with this generation of americans that we are in the midst of crisis is now well understood  our nation is at war against a farreaching network of violence and hatred  our economy is badly weakened a consequence of greed and irresponsibility on the part of some but also our collective failure to make hard choices and prepare the nation for a new age  homes have been lost  jobs shed  businesses shuttered  our health care is too costly  our schools fail too many  and each day brings further evidence that the ways we use energy strengthen our adversaries and threaten our planet these are the indicators of crisis subject to data and statistics  less measurable but no less profound is a sapping of confidence across our land  a nagging fear that americas decline is inevitable and that the next generation must lower its sights today i say to you that the challenges we face are real  they are serious and they are many  they will not be met easily or in a short span of time  but know this america  they will be met on this day we gather because we have chosen hope over fear unity of purpose over conflict and discord on this day we come to proclaim an end to the petty grievances and false promises the recriminations and worn out dogmas that for far too long have strangled our politics we remain a young nation but in the words of scripture the time has come to set aside childish things  the time has come to reaffirm our enduring spirit  to choose our better history  to carry forward that precious gift that noble idea passed on from generation to generation  the godgiven promise that all are equal all are free and all deserve a chance to pursue their full measure of happiness in reaffirming the greatness of our nation we understand that greatness is never a given  it must be earned  our journey has never been one of shortcuts or settling for less  it has not been the path for the fainthearted  for those who prefer leisure over work or seek only the pleasures of riches and fame  rather it has been the risktakers the doers the makers of things  some celebrated but more often men and women obscure in their labor who have carried us up the long rugged path towards prosperity and freedom for us they packed up their few worldly possessions and traveled across oceans in search of a new life for us they toiled in sweatshops and settled the west  endured the lash of the whip and plowed the hard earth for us they fought and died in places like concord and gettysburg  normandy and khe sahn time and again these men and women struggled and sacrificed and worked till their hands were raw so that we might live a better life  they saw america as bigger than the sum of our individual ambitions  greater than all the differences of birth or wealth or faction this is the journey we continue today  we remain the most prosperous powerful nation on earth  our workers are no less productive than when this crisis began  our minds are no less inventive our goods and services no less needed than they were last week or last month or last year  our capacity remains undiminished  but our time of standing pat of protecting narrow interests and putting off unpleasant decisions  that time has surely passed  starting today we must pick ourselves up dust ourselves off and begin again the work of remaking america for everywhere we look there is work to be done  the state of the economy calls for action bold and swift and we will act  not only to create new jobs but to lay a new foundation for growth  we will build the roads and bridges the electric grids and digital lines that feed our commerce and bind us together  we will restore science to its rightful place and wield technologys wonders to raise health cares quality and lower its cost  we will harness the sun and the winds and the soil to fuel our cars and run our factories  and we will transform our schools and colleges and universities to meet the demands of a new age  all this we can do  and all this we will do now there are some who question the scale of our ambitions  who suggest that our system cannot tolerate too many big plans  their memories are short  for they have forgotten what this country has already done  what free men and women can achieve when imagination is joined to common purpose and necessity to courage what the cynics fail to understand is that the ground has shifted beneath them  that the stale political arguments that have consumed us for so long no longer apply  the question we ask today is not whether our government is too big or too small but whether it works  whether it helps families find jobs at a decent wage care they can afford a retirement that is dignified  where the answer is yes we intend to move forward  where the answer is no programs will end  and those of us who manage the publics dollars will be held to account  to spend wisely reform bad habits and do our business in the light of day  because only then can we restore the vital trust between a people and their government nor is the question before us whether the market is a force for good or ill  its power to generate wealth and expand freedom is unmatched but this crisis has reminded us that without a watchful eye the market can spin out of control  and that a nation cannot prosper long when it favors only the prosperous  the success of our economy has always depended not just on the size of our gross domestic product but on the reach of our prosperity  on the ability to extend opportunity to every willing heart  not out of charity but because it is the surest route to our common good as for our common defense we reject as false the choice between our safety and our ideals  our founding fathers faced with perils we can scarcely imagine drafted a charter to assure the rule of law and the rights of man a charter expanded by the blood of generations  those ideals still light the world and we will not give them up for expediences sake  and so to all other peoples and governments who are watching today from the grandest capitals to the small village where my father was born  know that america is a friend of each nation and every man woman and child who seeks a future of peace and dignity and we are ready to lead once more recall that earlier generations faced down fascism and communism not just with missiles and tanks but with the sturdy alliances and enduring convictions  they understood that our power alone cannot protect us nor does it entitle us to do as we please  instead they knew that our power grows through its prudent use  our security emanates from the justness of our cause the force of our example the tempering qualities of humility and restraint we are the keepers of this legacy  guided by these principles once more we can meet those new threats that demand even greater effort  even greater cooperation and understanding between nations  we will begin to responsibly leave iraq to its people and forge a hardearned peace in afghanistan  with old friends and former foes we\\xe2\\x80\\x99ll work tirelessly to lessen the nuclear threat and roll back the specter of a warming planet  we will not apologize for our way of life nor will we waver in its defense and for those who seek to advance their aims by inducing terror and slaughtering innocents we say to you now that our spirit is stronger and cannot be broken  you cannot outlast us and we will defeat you for we know that our patchwork heritage is a strength not a weakness  we are a nation of christians and muslims jews and hindus  and nonbelievers  we are shaped by every language and culture drawn from every end of this earth  and because we have tasted the bitter swill of civil war and segregation and emerged from that dark chapter stronger and more united we cannot help but believe that the old hatreds shall someday pass  that the lines of tribe shall soon dissolve  that as the world grows smaller our common humanity shall reveal itself  and that america must play its role in ushering in a new era of peace to the muslim world we seek a new way forward based on mutual interest and mutual respect  to those leaders around the globe who seek to sow conflict or blame their societys ills on the west  know that your people will judge you on what you can build not what you destroy  to those who cling to power through corruption and deceit and the silencing of dissent know that you are on the wrong side of history  but that we will extend a hand if you are willing to unclench your fist to the people of poor nations we pledge to work alongside you to make your farms flourish and let clean waters flow  to nourish starved bodies and feed hungry minds  and to those nations like ours that enjoy relative plenty we say we can no longer afford indifference to the suffering outside our borders  nor can we consume the worlds resources without regard to effect  for the world has changed and we must change with it as we consider the road that unfolds before us we remember with humble gratitude those brave americans who at this very hour patrol faroff deserts and distant mountains  they have something to tell us just as the fallen heroes who lie in arlington whisper through the ages  we honor them not only because they are guardians of our liberty but because they embody the spirit of service  a willingness to find meaning in something greater than themselves  and yet at this moment  a moment that will define a generation  it is precisely this spirit that must inhabit us all for as much as government can do and must do it is ultimately the faith and determination of the american people upon which this nation relies  it is the kindness to take in a stranger when the levees break the selflessness of workers who would rather cut their hours than see a friend lose their job which sees us through our darkest hours  it is the firefighters courage to storm a stairway filled with smoke but also a parents willingness to nurture a child that finally decides our fate our challenges may be new  the instruments with which we meet them may be new  but those values upon which our success depends  honesty and hard work courage and fair play tolerance and curiosity loyalty and patriotism  these things are old  these things are true  they have been the quiet force of progress throughout our history  what is demanded then is a return to these truths  what is required of us now is a new era of responsibility  a recognition on the part of every american that we have duties to ourselves our nation and the world duties that we do not grudgingly accept but rather seize gladly firm in the knowledge that there is nothing so satisfying to the spirit so defining of our character than giving our all to a difficult task this is the price and the promise of citizenship this is the source of our confidence  the knowledge that god calls on us to shape an uncertain destiny this is the meaning of our liberty and our creed  why men and women and children of every race and every faith can join in celebration across this magnificent mall and why a man whose father less than sixty years ago might not have been served at a local restaurant can now stand before you to take a most sacred oath so let us mark this day with remembrance of who we are and how far we have traveled  in the year of americas birth in the coldest of months a small band of patriots huddled by dying campfires on the shores of an icy river  the capital was abandoned  the enemy was advancing  the snow was stained with blood  at a moment when the outcome of our revolution was most in doubt the father of our nation ordered these words be read to the people let it be told to the future world   that in the depth of winter when nothing but hope and virtue could survive   that the city and the country alarmed at one common danger came forth to meet it america  in the face of our common dangers in this winter of our hardship let us remember these timeless words  with hope and virtue let us brave once more the icy currents and endure what storms may come  let it be said by our childrens children that when we were tested we refused to let this journey end that we did not turn back nor did we falter  and with eyes fixed on the horizon and gods grace upon us we carried forth that great gift of freedom and delivered it safely to future generations thank you  god bless you and god bless the united states of america ']\n"
     ]
    }
   ],
   "source": [
    "tokens, sents, unique_tokens, num_tokens, fdist  = prepareCorpus('obama.txt')"
   ]
  },
  {
   "cell_type": "code",
   "execution_count": 261,
   "metadata": {
    "collapsed": false
   },
   "outputs": [],
   "source": [
    "# make cooccurrence array\n",
    "cooc_array = np.zeros((num_tokens, num_tokens))\n",
    "# word indices dict: key->word, value->index in array (0 to m)\n",
    "word_indices = {}\n",
    "counter = 0\n",
    "for t in unique_tokens:\n",
    "    word_indices[t] = counter\n",
    "    counter+=1"
   ]
  },
  {
   "cell_type": "code",
   "execution_count": 262,
   "metadata": {
    "collapsed": false
   },
   "outputs": [],
   "source": [
    "# fill cooccurrence array\n",
    "for sent in sents:\n",
    "    words = word_tokenize(sent)\n",
    "    examineSentence(words)"
   ]
  },
  {
   "cell_type": "code",
   "execution_count": 263,
   "metadata": {
    "collapsed": false
   },
   "outputs": [
    {
     "data": {
      "text/plain": [
       "[('the', 133), ('and', 114), ('of', 82), ('to', 70), ('our', 66)]"
      ]
     },
     "execution_count": 263,
     "metadata": {},
     "output_type": "execute_result"
    }
   ],
   "source": [
    "fdist.items()[:5] #5 most frequent items in fdist"
   ]
  },
  {
   "cell_type": "code",
   "execution_count": 256,
   "metadata": {
    "collapsed": false
   },
   "outputs": [
    {
     "name": "stdout",
     "output_type": "stream",
     "text": [
      "[[  0.   9.   9. ...,   9.   9.  27.]\n",
      " [  9.   0.   1. ...,   1.   1.   3.]\n",
      " [  9.   1.   0. ...,   1.   1.   3.]\n",
      " ..., \n",
      " [  9.   1.   1. ...,   0.   1.   3.]\n",
      " [  9.   1.   1. ...,   1.   0.   3.]\n",
      " [ 27.   3.   3. ...,   3.   3.   0.]]\n"
     ]
    }
   ],
   "source": [
    "print cooc_array"
   ]
  },
  {
   "cell_type": "code",
   "execution_count": null,
   "metadata": {
    "collapsed": true
   },
   "outputs": [],
   "source": [
    "# TO DO:\n",
    "# find top cooccurrences"
   ]
  }
 ],
 "metadata": {
  "kernelspec": {
   "display_name": "Python 2",
   "language": "python",
   "name": "python2"
  },
  "language_info": {
   "codemirror_mode": {
    "name": "ipython",
    "version": 2
   },
   "file_extension": ".py",
   "mimetype": "text/x-python",
   "name": "python",
   "nbconvert_exporter": "python",
   "pygments_lexer": "ipython2",
   "version": "2.7.10"
  }
 },
 "nbformat": 4,
 "nbformat_minor": 0
}
