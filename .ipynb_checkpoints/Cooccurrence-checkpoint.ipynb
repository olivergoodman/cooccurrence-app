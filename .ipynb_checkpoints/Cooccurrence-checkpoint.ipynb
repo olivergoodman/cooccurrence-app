{
 "cells": [
  {
   "cell_type": "code",
   "execution_count": 81,
   "metadata": {
    "collapsed": false
   },
   "outputs": [],
   "source": [
    "import numpy as np\n",
    "from nltk import word_tokenize\n",
    "from nltk.probability import FreqDist\n",
    "from nltk.tokenize import sent_tokenize"
   ]
  },
  {
   "cell_type": "code",
   "execution_count": 82,
   "metadata": {
    "collapsed": false
   },
   "outputs": [],
   "source": [
    "# from newspaper import Article\n",
    "# # get article\n",
    "# url1 = \"http://www.nytimes.com/2016/05/05/technology/moores-law-running-out-of-room-tech-looks-for-a-successor.html?smid=pl-share\"\n",
    "# article1 = Article(url1)\n",
    "# article1.download()\n",
    "# article1.parse()\n",
    "# raw1 = article1.text.lower()\n",
    "# raw1 = raw1.encode(\"utf-8\")\n",
    "# raw1.replace(\".\", \"\")\n",
    "# raw1.replace(\",\", \"\")"
   ]
  },
  {
   "cell_type": "code",
   "execution_count": 128,
   "metadata": {
    "collapsed": false
   },
   "outputs": [],
   "source": [
    "with open('obama.txt', 'r') as myfile:\n",
    "    data1 = myfile.read().replace('\\n', '')\n",
    "data1 = data1.lower()\n",
    "data1 = data1.replace(\".\", \"\")\n",
    "data1 = data1.replace(\",\", \"\")\n",
    "tokens1 = word_tokenize(data1)\n",
    "sents1 = sent_tokenize(data1)\n",
    "text_len1 = len(tokens1)\n",
    "fdist1 = FreqDist(tokens1)"
   ]
  },
  {
   "cell_type": "code",
   "execution_count": 136,
   "metadata": {
    "collapsed": false
   },
   "outputs": [],
   "source": [
    "# make cooccurence array\n",
    "array1 = np.zeros((text_len1, text_len1))"
   ]
  },
  {
   "cell_type": "code",
   "execution_count": 109,
   "metadata": {
    "collapsed": false
   },
   "outputs": [
    {
     "data": {
      "text/plain": [
       "[('the', 124), ('and', 108), ('of', 82), ('to', 66), ('our', 57)]"
      ]
     },
     "execution_count": 109,
     "metadata": {},
     "output_type": "execute_result"
    }
   ],
   "source": [
    "# populate coocurrence array\n",
    "fdist1.items()[:5] #5 most frequent items in fdist\n",
    "\n",
    "#to do: figure out how to do coocurrence.. "
   ]
  },
  {
   "cell_type": "code",
   "execution_count": null,
   "metadata": {
    "collapsed": true
   },
   "outputs": [],
   "source": [
    "# looking through each document \n",
    "def examineSentence(sent):\n",
    "    # for word1 in sent:\n",
    "    #     for words 2 in sent:\n",
    "    #         how frequently does word2 cooccur with word1 (look at coocurrence array)\n",
    "    #         return that value\n",
    "    return"
   ]
  }
 ],
 "metadata": {
  "kernelspec": {
   "display_name": "Python 2",
   "language": "python",
   "name": "python2"
  },
  "language_info": {
   "codemirror_mode": {
    "name": "ipython",
    "version": 2
   },
   "file_extension": ".py",
   "mimetype": "text/x-python",
   "name": "python",
   "nbconvert_exporter": "python",
   "pygments_lexer": "ipython2",
   "version": "2.7.10"
  }
 },
 "nbformat": 4,
 "nbformat_minor": 0
}
