{
 "cells": [
  {
   "cell_type": "code",
   "execution_count": 51,
   "metadata": {
    "collapsed": false
   },
   "outputs": [],
   "source": [
    "import numpy as np\n",
    "import string\n",
    "from nltk import word_tokenize\n",
    "from nltk.probability import FreqDist\n",
    "from nltk.tokenize import sent_tokenize\n",
    "from nltk.corpus import stopwords\n"
   ]
  },
  {
   "cell_type": "code",
   "execution_count": 52,
   "metadata": {
    "collapsed": false
   },
   "outputs": [],
   "source": [
    "# from newspaper import Article\n",
    "# # get article\n",
    "# url1 = \"http://www.nytimes.com/2016/05/05/technology/moores-law-running-out-of-room-tech-looks-for-a-successor.html?smid=pl-share\"\n",
    "# article1 = Article(url1)\n",
    "# article1.download()\n",
    "# article1.parse()\n",
    "# raw1 = article1.text.lower()\n",
    "# raw1 = raw1.encode(\"utf-8\")\n",
    "# raw1.replace(\".\", \"\")\n",
    "# raw1.replace(\",\", \"\")"
   ]
  },
  {
   "cell_type": "code",
   "execution_count": 53,
   "metadata": {
    "collapsed": false
   },
   "outputs": [],
   "source": [
    "class CooccurrenceMatrix:\n",
    "    \"\"\"\n",
    "    corpus        --  text file, declared when object created\n",
    "    data          --  string\n",
    "    sents         --  list of strings, all the sentences in text file (with punctiation)\n",
    "    tokens        --  list of strings, all tokens in text file (with repetitions)\n",
    "    unique_tokens --  list of strings, all unique tokens\n",
    "    num_tokens    --  int, number of unique tokens in text\n",
    "    fdist         --  fdist object\n",
    "    cooc_matrix   --  2D list, initialized to all 0's in prepareCorpus\n",
    "    word_indices  --  dictionary (key=word, value=index in cooc_matrix)\n",
    "    \"\"\"\n",
    "    def __init__(self, c):\n",
    "        self.corpus = c \n",
    "        self.data = \"\"\n",
    "        self.sents = []\n",
    "        self.tokens = []\n",
    "        self.unique_tokens = []\n",
    "        self.num_tokens = 0\n",
    "        self.fdist = None\n",
    "        self.cooc_matrix = None\n",
    "        self.word_indices = {}\n",
    "        \n",
    "    def prepareCorpus(self):\n",
    "        \"\"\"Given a text file, removes punctuation, returns the list of all tokens, list of unique tokens, \n",
    "        list of sentences, the number of unique tokens, and the frequency distribution. \n",
    "        Also initializies cooc_matrix to all 0's with size = num_tokens\"\"\"\n",
    "        with open(self.corpus, 'r') as myfile:\n",
    "            self.data = myfile.read().replace('\\n', '')\n",
    "        self.data = self.data.lower()\n",
    "        data_no_stop = [i for i in self.data.split() if i not in stopwords.words('english')]\n",
    "        self.data = \" \".join(data_no_stop)\n",
    "        self.sents = sent_tokenize(self.data)\n",
    "        self.data = self.removePunctuation(self.data)\n",
    "        self.tokens = word_tokenize(self.data)\n",
    "        self.unique_tokens = set(self.tokens)\n",
    "        self.num_tokens = len(self.unique_tokens)\n",
    "        self.fdist = FreqDist(self.tokens)\n",
    "        self.cooc_matrix = np.zeros((self.num_tokens, self.num_tokens))\n",
    "        return\n",
    "\n",
    "    def fillMatrix(self):\n",
    "        \"\"\"Fills the cooccurrence matrix\"\"\"\n",
    "        self.findIndices()\n",
    "        for s in self.sents:\n",
    "            s = self.removePunctuation(s)\n",
    "            words = word_tokenize(s)\n",
    "            self.examineSentence(words)\n",
    "        print \"Cooccurrence Matrix:\\n\", self.cooc_matrix \n",
    "        return \n",
    "    \n",
    "    def examineSentence(self, sentence): #problem in here\n",
    "        \"\"\"Given a sentence (list of words), updates cooccurrence matrix with number of cooccurrences within sentence\n",
    "        Ignores cooccurrences of word with itself\"\"\"\n",
    "        for word1 in sentence:\n",
    "            for word2 in sentence:\n",
    "                index1 = self.word_indices[word1]\n",
    "                index2 = self.word_indices[word2]\n",
    "                if word1 != word2:\n",
    "                    self.cooc_matrix[index1][index2] += 1\n",
    "        return\n",
    "    \n",
    "    def findIndices(self):\n",
    "        \"\"\"Sets word_indices, where each key is a unique token and each value is a index in the cooc_matrix\"\"\"\n",
    "        counter = 0\n",
    "        for t in self.unique_tokens:\n",
    "            self.word_indices[t] = counter\n",
    "            counter += 1\n",
    "        return\n",
    "\n",
    "    def removePunctuation(self, text):\n",
    "        \"\"\"Given a piece of text, removes all punctuation (replacing periods, semicolons, colons with spaces)\"\"\"\n",
    "        text = text.replace(\".\", \" \")\n",
    "        text = text.replace(\";\", \" \")\n",
    "        text = text.replace(\":\", \".\")\n",
    "        text = text.replace(\",\", \"\")\n",
    "        exclude = set(string.punctuation)\n",
    "        text = ''.join(ch for ch in text if ch not in exclude)\n",
    "        return text\n",
    "    \n",
    "    def findCooccurrences(self, target_word):\n",
    "        \"\"\"returns the cooccurrences of a given word\"\"\"\n",
    "        if target_word not in self.word_indices[target_word]:\n",
    "            return \"Target word not in corpus. Try another word.\"\n",
    "        index_target_word = self.word_indices[target_word]\n",
    "        max_index = 0\n",
    "        for col in range(self.num_tokens):\n",
    "            if self.cooc_matrix[index_target_word][col] > self.cooc_matrix[index_target_word][max_index]:\n",
    "                max_index = col\n",
    "        top_cooccurrence = (list(self.word_indices.keys())[list(self.word_indices.value()).index(max_index)])\n",
    "        return top_cooccurrence"
   ]
  },
  {
   "cell_type": "code",
   "execution_count": 54,
   "metadata": {
    "collapsed": false
   },
   "outputs": [
    {
     "name": "stdout",
     "output_type": "stream",
     "text": [
      "Cooccurrence Matrix:\n",
      "[[ 0.  0.  0. ...,  0.  0.  0.]\n",
      " [ 0.  0.  0. ...,  0.  0.  0.]\n",
      " [ 0.  0.  0. ...,  0.  0.  0.]\n",
      " ..., \n",
      " [ 0.  0.  0. ...,  0.  0.  0.]\n",
      " [ 0.  0.  0. ...,  0.  0.  0.]\n",
      " [ 0.  0.  0. ...,  0.  0.  0.]]\n",
      "(1217, 1217)\n"
     ]
    }
   ],
   "source": [
    "# Testing on obama.txt\n",
    "obama = CooccurrenceMatrix('obama.txt')\n",
    "obama.prepareCorpus()\n",
    "obama.fillMatrix()\n",
    "print obama.cooc_matrix.shape #dimensions of matrix\n",
    "\n",
    "# test = \"this is a test piece of text. does the punct remove?\"\n",
    "# print obama.removePunctuation(test)\n",
    "\n",
    "# data\n",
    "# sents = []\n",
    "# tokens = []\n",
    "# unique_tokens = []\n",
    "# num_tokens\n",
    "# fdist\n",
    "# cooc_matrix = np.zeros((num_tokens, num_tokens))\n",
    "# word_indices\n"
   ]
  },
  {
   "cell_type": "code",
   "execution_count": 55,
   "metadata": {
    "collapsed": true
   },
   "outputs": [],
   "source": [
    "# TO DO:\n",
    "# input word in system, look up word in matrix and return (n)-most cooccurring words\n",
    "# add a bigger corpus, or put together lots of obama's speeches together \n",
    "# what words to obama use similarly together (maybe use other political figures) \n",
    "# for this word obama uses like this, this other politician uses it like this"
   ]
  },
  {
   "cell_type": "code",
   "execution_count": 68,
   "metadata": {
    "collapsed": false
   },
   "outputs": [
    {
     "name": "stdout",
     "output_type": "stream",
     "text": [
      "advancing\n"
     ]
    }
   ],
   "source": [
    "#OBAMA TEST: for given word ('america' here), return top cooccurrence\n",
    "obama.word_indices['america'] #604\n",
    "\n",
    "max_index = 0\n",
    "# for row in range(obama.num_tokens):\n",
    "#     for col in range(obama.num_tokens):\n",
    "        \n",
    "for col in range(obama.num_tokens):\n",
    "    if obama.cooc_matrix[604][col] > obama.cooc_matrix[604][max_index]:\n",
    "        max_index = col\n",
    "# max_index is 244\n",
    "\n",
    "top_cooccurrence = (list(obama.word_indices.keys())[list(obama.word_indices.values()).index(max_index)])\n",
    "print top_cooccurrence"
   ]
  },
  {
   "cell_type": "code",
   "execution_count": 69,
   "metadata": {
    "collapsed": false
   },
   "outputs": [
    {
     "name": "stdout",
     "output_type": "stream",
     "text": [
      "Cooccurrence Matrix:\n",
      "[[ 0.  0.  0. ...,  0.  0.  0.]\n",
      " [ 0.  0.  0. ...,  0.  0.  0.]\n",
      " [ 0.  0.  0. ...,  0.  0.  0.]\n",
      " ..., \n",
      " [ 0.  0.  0. ...,  0.  0.  0.]\n",
      " [ 0.  0.  0. ...,  0.  0.  0.]\n",
      " [ 0.  0.  0. ...,  0.  0.  0.]]\n",
      "(1046, 1046)\n",
      "president\n"
     ]
    }
   ],
   "source": [
    "#TRUMP TEST\n",
    "trump = CooccurrenceMatrix('trump.txt')\n",
    "trump.prepareCorpus()\n",
    "trump.fillMatrix()\n",
    "print trump.cooc_matrix.shape #dimensions of matrix\n",
    "\n",
    "#for given word ('america' here), return top cooccurrence\n",
    "trump.word_indices['america'] #498\n",
    "\n",
    "max_index = 0\n",
    "for col in range(trump.num_tokens):\n",
    "    if trump.cooc_matrix[498][col] > trump.cooc_matrix[498][max_index]:\n",
    "        max_index = col\n",
    "# max_index is 241\n",
    "\n",
    "top_cooccurrence = (list(trump.word_indices.keys())[list(trump.word_indices.values()).index(max_index)]) \n",
    "print top_cooccurrence"
   ]
  },
  {
   "cell_type": "code",
   "execution_count": null,
   "metadata": {
    "collapsed": true
   },
   "outputs": [],
   "source": []
  }
 ],
 "metadata": {
  "kernelspec": {
   "display_name": "Python 2",
   "language": "python",
   "name": "python2"
  },
  "language_info": {
   "codemirror_mode": {
    "name": "ipython",
    "version": 2
   },
   "file_extension": ".py",
   "mimetype": "text/x-python",
   "name": "python",
   "nbconvert_exporter": "python",
   "pygments_lexer": "ipython2",
   "version": "2.7.10"
  }
 },
 "nbformat": 4,
 "nbformat_minor": 0
}
